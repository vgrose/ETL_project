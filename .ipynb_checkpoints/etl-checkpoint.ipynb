{
 "cells": [
  {
   "cell_type": "code",
   "execution_count": null,
   "metadata": {},
   "outputs": [],
   "source": [
    "import pandas as pd\n",
    "from sqlalchemy import create_engine"
   ]
  },
  {
   "cell_type": "code",
   "execution_count": null,
   "metadata": {},
   "outputs": [],
   "source": [
    "nba_salary_file = \"Resources/NBA_season1718_salary.csv\"\n",
    "nba_salary_df = pd.read_csv(nba_salary_file)\n",
    "nba_salary_df.head()"
   ]
  },
  {
   "cell_type": "code",
   "execution_count": null,
   "metadata": {},
   "outputs": [],
   "source": []
  },
  {
   "cell_type": "code",
   "execution_count": null,
   "metadata": {},
   "outputs": [],
   "source": [
    "salary_cols = [\"Player\",\"Tm\",\"season17_18\"]\n",
    "nba_salary = nba_salary_df[salary_cols].copy()\n",
    "nba_salary = nba_salary.rename(columns = {\"Tm\":\"Team\",\"season17_18\":\"Salary\"})\n",
    "#nba_salary.set_index(\"Player\", inplace = True)\n",
    "nba_salary.head()\n"
   ]
  },
  {
   "cell_type": "code",
   "execution_count": null,
   "metadata": {},
   "outputs": [],
   "source": [
    "nba_salary_data = nba_salary.groupby(nba_salary[\"Player\"]).sum()\n",
    "nba_salary_data"
   ]
  },
  {
   "cell_type": "code",
   "execution_count": null,
   "metadata": {},
   "outputs": [],
   "source": [
    "nba_stats_file = \"Resources/Seasons_Stats.csv\"\n",
    "nba_stats_data_df = pd.read_csv(nba_stats_file)\n",
    "nba_stats_data_df.head()"
   ]
  },
  {
   "cell_type": "code",
   "execution_count": null,
   "metadata": {},
   "outputs": [],
   "source": [
    "nba_stats_cols = [\"Year\",\"Player\",\"G\",\"FG\",\"FGA\",\"AST\",\"PTS\"]\n",
    "nba_stats_df = nba_stats_data_df[nba_stats_cols].copy()\n",
    "nba_stats_df.head()"
   ]
  },
  {
   "cell_type": "code",
   "execution_count": null,
   "metadata": {},
   "outputs": [],
   "source": [
    "nba_career_df = nba_stats_df.groupby(nba_stats_df[\"Player\"]).sum()\n",
    "nba_career_df"
   ]
  },
  {
   "cell_type": "code",
   "execution_count": null,
   "metadata": {},
   "outputs": [],
   "source": [
    "del nba_career_df[\"Year\"]"
   ]
  },
  {
   "cell_type": "code",
   "execution_count": null,
   "metadata": {},
   "outputs": [],
   "source": [
    "nba_career_df[\"Average_FG\"]=round(nba_career_df[\"FG\"]/nba_career_df[\"FGA\"],2)\n",
    "nba_career_df[\"Average_AST\"]=round(nba_career_df[\"AST\"]/nba_career_df[\"G\"],2)\n",
    "nba_career_df[\"Average_PTS\"]=round(nba_career_df[\"PTS\"]/nba_career_df[\"G\"],2)\n",
    "\n",
    "nba_career_df"
   ]
  },
  {
   "cell_type": "code",
   "execution_count": null,
   "metadata": {},
   "outputs": [],
   "source": [
    "connection_string = 'sqlite:///player_db.sqlite'\n",
    "engine = create_engine(connection_string)"
   ]
  },
  {
   "cell_type": "code",
   "execution_count": null,
   "metadata": {
    "scrolled": true
   },
   "outputs": [],
   "source": [
    "engine.execute('create table nba_salary_data (Player text primary key,Salary decimal(20,2))')"
   ]
  },
  {
   "cell_type": "code",
   "execution_count": null,
   "metadata": {},
   "outputs": [],
   "source": [
    "engine.table_names()"
   ]
  },
  {
   "cell_type": "code",
   "execution_count": null,
   "metadata": {},
   "outputs": [],
   "source": [
    "nba_salary_data.to_sql(name = 'nba_salary_data',con=engine, if_exists = 'append', index = True)"
   ]
  },
  {
   "cell_type": "code",
   "execution_count": null,
   "metadata": {},
   "outputs": [],
   "source": [
    "pd.read_sql_query('SELECT * FROM nba_salary_data', con=engine)"
   ]
  },
  {
   "cell_type": "code",
   "execution_count": null,
   "metadata": {},
   "outputs": [],
   "source": [
    "engine.execute('create table nba_career_data (Player text primary key,G int, FG int,FGA int,AST int, PTS int,Average_FG decimal(20,2), Average_AST decimal(20,2), Average_PTS decimal(20,2))')"
   ]
  },
  {
   "cell_type": "code",
   "execution_count": null,
   "metadata": {},
   "outputs": [],
   "source": [
    "nba_career_df.to_sql(name = 'nba_career_data',con=engine, if_exists = 'append', index = True)"
   ]
  },
  {
   "cell_type": "code",
   "execution_count": null,
   "metadata": {},
   "outputs": [],
   "source": []
  },
  {
   "cell_type": "code",
   "execution_count": null,
   "metadata": {},
   "outputs": [],
   "source": [
    "pd.read_sql_query('SELECT * FROM nba_career_data', con=engine)"
   ]
  },
  {
   "cell_type": "code",
   "execution_count": null,
   "metadata": {},
   "outputs": [],
   "source": [
    "query = \"\"\"\n",
    "SELECT\n",
    "*\n",
    "FROM nba_career_data A\n",
    "INNER JOIN nba_salary_data B ON A.Player = B.Player\n",
    "\"\"\"\n",
    "\n",
    "pd.read_sql_query(query, con=engine).head()"
   ]
  },
  {
   "cell_type": "code",
   "execution_count": null,
   "metadata": {},
   "outputs": [],
   "source": []
  }
 ],
 "metadata": {
  "kernelspec": {
   "display_name": "Python 3",
   "language": "python",
   "name": "python3"
  },
  "language_info": {
   "codemirror_mode": {
    "name": "ipython",
    "version": 3
   },
   "file_extension": ".py",
   "mimetype": "text/x-python",
   "name": "python",
   "nbconvert_exporter": "python",
   "pygments_lexer": "ipython3",
   "version": "3.7.1"
  }
 },
 "nbformat": 4,
 "nbformat_minor": 2
}
